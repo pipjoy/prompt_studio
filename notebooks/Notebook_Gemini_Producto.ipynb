{
 "cells": [
  {
   "cell_type": "markdown",
   "id": "68161034",
   "metadata": {},
   "source": [
    "## 🔧 Instalación e integración con Google Gemini"
   ]
  },
  {
   "cell_type": "code",
   "execution_count": null,
   "id": "8b704655",
   "metadata": {},
   "outputs": [],
   "source": [
    "!pip install -q google-generativeai\n",
    "\n",
    "import google.generativeai as genai\n",
    "import time\n",
    "from IPython.display import Markdown, display\n"
   ]
  },
  {
   "cell_type": "markdown",
   "id": "fd0e4be7",
   "metadata": {},
   "source": [
    "## 🔑 Configurar API Key"
   ]
  },
  {
   "cell_type": "code",
   "execution_count": null,
   "id": "5ef6b3a1",
   "metadata": {},
   "outputs": [],
   "source": [
    "# Pegá tu clave desde Google AI Studio: https://makersuite.google.com/app/apikey\n",
    "genai.configure(api_key=\"AIza-...\")  # Reemplazá con tu clave real\n"
   ]
  },
  {
   "cell_type": "markdown",
   "id": "346c0337",
   "metadata": {},
   "source": [
    "## 📦 Definir datos del producto"
   ]
  },
  {
   "cell_type": "code",
   "execution_count": null,
   "id": "2037dc6b",
   "metadata": {},
   "outputs": [],
   "source": [
    "producto_ejemplo = {\n",
    "    \"nombre\": \"iPhone 16 Pro Max\",\n",
    "    \"marca\": \"Apple\",\n",
    "    \"modelo\": \"A2894\",\n",
    "    \"uso\": \"Fotografía profesional y productividad\",\n",
    "    \"beneficio\": \"Rendimiento ultra alto con chip A19 y cámara cuádruple\"\n",
    "}\n"
   ]
  },
  {
   "cell_type": "markdown",
   "id": "12a47f37",
   "metadata": {},
   "source": [
    "## ✨ Generar descripción con Gemini Pro"
   ]
  },
  {
   "cell_type": "code",
   "execution_count": null,
   "id": "7e9a1890",
   "metadata": {},
   "outputs": [],
   "source": [
    "prompt = f\"\"\"Generá una descripción persuasiva para el siguiente producto:\n",
    "\n",
    "Producto: {producto_ejemplo[\"nombre\"]}\n",
    "Marca: {producto_ejemplo[\"marca\"]}\n",
    "Modelo: {producto_ejemplo[\"modelo\"]}\n",
    "Uso: {producto_ejemplo[\"uso\"]}\n",
    "Beneficio: {producto_ejemplo[\"beneficio\"]}\n",
    "\n",
    "Formato:\n",
    "- Título del producto\n",
    "- Párrafo introductorio\n",
    "- Lista de beneficios\n",
    "- Meta descripción SEO\n",
    "\"\"\"\n",
    "\n",
    "modelo = genai.GenerativeModel(\"gemini-pro\")\n",
    "\n",
    "start = time.time()\n",
    "response = modelo.generate_content(prompt)\n",
    "end = time.time()\n",
    "\n",
    "texto = response.text.strip()\n",
    "display(Markdown(texto))\n",
    "print(f\"⌛ Duración: {round(end - start, 2)} segundos | {len(texto)} caracteres\")\n"
   ]
  },
  {
   "cell_type": "markdown",
   "id": "64ec763f",
   "metadata": {},
   "source": [
    "[Hacé clic acá para probar la app](https://promptstudio-mgapwv7ufdkocw5nprzabf.streamlit.app/)"
   ]
  }
 ],
 "metadata": {
  "language_info": {
   "name": "python"
  }
 },
 "nbformat": 4,
 "nbformat_minor": 5
}
